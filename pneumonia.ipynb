{
 "cells": [
  {
   "cell_type": "code",
   "execution_count": 1,
   "metadata": {},
   "outputs": [],
   "source": [
    "import numpy as np\n",
    "import matplotlib.pyplot as plt\n",
    "import pydicom"
   ]
  },
  {
   "cell_type": "code",
   "execution_count": 2,
   "metadata": {},
   "outputs": [],
   "source": [
    "import os"
   ]
  },
  {
   "cell_type": "markdown",
   "metadata": {},
   "source": [
    "## Image data is put in folder 'rsna-pneumonia-detection-challenge'"
   ]
  },
  {
   "cell_type": "code",
   "execution_count": 3,
   "metadata": {},
   "outputs": [
    {
     "name": "stdout",
     "output_type": "stream",
     "text": [
      "GCP Credits Request Link - RSNA.txt \u001b[34mstage_2_test_images\u001b[m\u001b[m\r\n",
      "stage_2_detailed_class_info.csv     \u001b[34mstage_2_train_images\u001b[m\u001b[m\r\n",
      "stage_2_sample_submission.csv       stage_2_train_labels.csv\r\n"
     ]
    }
   ],
   "source": [
    "dir_dicom = os.path.join(os.getcwd(), 'rsna-pneumonia-detection-challenge')\n",
    "os.listdir(dir_dicom)\n",
    "!ls rsna-pneumonia-detection-challenge\n",
    "\n",
    "import pandas"
   ]
  },
  {
   "cell_type": "code",
   "execution_count": 4,
   "metadata": {},
   "outputs": [],
   "source": [
    "df = pandas.read_csv(os.path.join(dir_dicom, 'stage_2_train_labels.csv'))"
   ]
  },
  {
   "cell_type": "code",
   "execution_count": 5,
   "metadata": {},
   "outputs": [],
   "source": [
    "df = df.fillna(0)"
   ]
  },
  {
   "cell_type": "markdown",
   "metadata": {},
   "source": [
    "Patients got diagnosed with numbers of bounding boxs, ranged from 0 to 4"
   ]
  },
  {
   "cell_type": "code",
   "execution_count": 6,
   "metadata": {},
   "outputs": [
    {
     "data": {
      "text/plain": [
       "box_count\n",
       "1    23286\n",
       "2     3266\n",
       "3      119\n",
       "4       13\n",
       "dtype: int64"
      ]
     },
     "execution_count": 6,
     "metadata": {},
     "output_type": "execute_result"
    }
   ],
   "source": [
    "df.groupby(\"patientId\").size().reset_index(name=\"box_count\").groupby(\"box_count\").size()"
   ]
  },
  {
   "cell_type": "markdown",
   "metadata": {},
   "source": [
    "Therefore, do a tranpose and an aggregation"
   ]
  },
  {
   "cell_type": "code",
   "execution_count": 7,
   "metadata": {},
   "outputs": [
    {
     "data": {
      "text/html": [
       "<div>\n",
       "<style scoped>\n",
       "    .dataframe tbody tr th:only-of-type {\n",
       "        vertical-align: middle;\n",
       "    }\n",
       "\n",
       "    .dataframe tbody tr th {\n",
       "        vertical-align: top;\n",
       "    }\n",
       "\n",
       "    .dataframe thead th {\n",
       "        text-align: right;\n",
       "    }\n",
       "</style>\n",
       "<table border=\"1\" class=\"dataframe\">\n",
       "  <thead>\n",
       "    <tr style=\"text-align: right;\">\n",
       "      <th></th>\n",
       "      <th>patientId</th>\n",
       "      <th>Target</th>\n",
       "      <th>bounding_boxs</th>\n",
       "    </tr>\n",
       "  </thead>\n",
       "  <tbody>\n",
       "    <tr>\n",
       "      <th>0</th>\n",
       "      <td>0004cfab-14fd-4e49-80ba-63a80b6bddd6</td>\n",
       "      <td>0</td>\n",
       "      <td>{'x': 0.0, 'y': 0.0, 'width': 0.0, 'height': 0.0}</td>\n",
       "    </tr>\n",
       "    <tr>\n",
       "      <th>1</th>\n",
       "      <td>00313ee0-9eaa-42f4-b0ab-c148ed3241cd</td>\n",
       "      <td>0</td>\n",
       "      <td>{'x': 0.0, 'y': 0.0, 'width': 0.0, 'height': 0.0}</td>\n",
       "    </tr>\n",
       "    <tr>\n",
       "      <th>2</th>\n",
       "      <td>00322d4d-1c29-4943-afc9-b6754be640eb</td>\n",
       "      <td>0</td>\n",
       "      <td>{'x': 0.0, 'y': 0.0, 'width': 0.0, 'height': 0.0}</td>\n",
       "    </tr>\n",
       "    <tr>\n",
       "      <th>3</th>\n",
       "      <td>003d8fa0-6bf1-40ed-b54c-ac657f8495c5</td>\n",
       "      <td>0</td>\n",
       "      <td>{'x': 0.0, 'y': 0.0, 'width': 0.0, 'height': 0.0}</td>\n",
       "    </tr>\n",
       "    <tr>\n",
       "      <th>4</th>\n",
       "      <td>00436515-870c-4b36-a041-de91049b9ab4</td>\n",
       "      <td>1</td>\n",
       "      <td>{'x': 264.0, 'y': 152.0, 'width': 213.0, 'heig...</td>\n",
       "    </tr>\n",
       "    <tr>\n",
       "      <th>...</th>\n",
       "      <td>...</td>\n",
       "      <td>...</td>\n",
       "      <td>...</td>\n",
       "    </tr>\n",
       "    <tr>\n",
       "      <th>30222</th>\n",
       "      <td>c1ec14ff-f6d7-4b38-b0cb-fe07041cbdc8</td>\n",
       "      <td>1</td>\n",
       "      <td>{'x': 185.0, 'y': 298.0, 'width': 228.0, 'heig...</td>\n",
       "    </tr>\n",
       "    <tr>\n",
       "      <th>30223</th>\n",
       "      <td>c1edf42b-5958-47ff-a1e7-4f23d99583ba</td>\n",
       "      <td>0</td>\n",
       "      <td>{'x': 0.0, 'y': 0.0, 'width': 0.0, 'height': 0.0}</td>\n",
       "    </tr>\n",
       "    <tr>\n",
       "      <th>30224</th>\n",
       "      <td>c1f6b555-2eb1-4231-98f6-50a963976431</td>\n",
       "      <td>0</td>\n",
       "      <td>{'x': 0.0, 'y': 0.0, 'width': 0.0, 'height': 0.0}</td>\n",
       "    </tr>\n",
       "    <tr>\n",
       "      <th>30225</th>\n",
       "      <td>c1f7889a-9ea9-4acb-b64c-b737c929599a</td>\n",
       "      <td>1</td>\n",
       "      <td>{'x': 570.0, 'y': 393.0, 'width': 261.0, 'heig...</td>\n",
       "    </tr>\n",
       "    <tr>\n",
       "      <th>30226</th>\n",
       "      <td>c1f7889a-9ea9-4acb-b64c-b737c929599a</td>\n",
       "      <td>1</td>\n",
       "      <td>{'x': 233.0, 'y': 424.0, 'width': 201.0, 'heig...</td>\n",
       "    </tr>\n",
       "  </tbody>\n",
       "</table>\n",
       "<p>30227 rows × 3 columns</p>\n",
       "</div>"
      ],
      "text/plain": [
       "                                  patientId  Target  \\\n",
       "0      0004cfab-14fd-4e49-80ba-63a80b6bddd6       0   \n",
       "1      00313ee0-9eaa-42f4-b0ab-c148ed3241cd       0   \n",
       "2      00322d4d-1c29-4943-afc9-b6754be640eb       0   \n",
       "3      003d8fa0-6bf1-40ed-b54c-ac657f8495c5       0   \n",
       "4      00436515-870c-4b36-a041-de91049b9ab4       1   \n",
       "...                                     ...     ...   \n",
       "30222  c1ec14ff-f6d7-4b38-b0cb-fe07041cbdc8       1   \n",
       "30223  c1edf42b-5958-47ff-a1e7-4f23d99583ba       0   \n",
       "30224  c1f6b555-2eb1-4231-98f6-50a963976431       0   \n",
       "30225  c1f7889a-9ea9-4acb-b64c-b737c929599a       1   \n",
       "30226  c1f7889a-9ea9-4acb-b64c-b737c929599a       1   \n",
       "\n",
       "                                           bounding_boxs  \n",
       "0      {'x': 0.0, 'y': 0.0, 'width': 0.0, 'height': 0.0}  \n",
       "1      {'x': 0.0, 'y': 0.0, 'width': 0.0, 'height': 0.0}  \n",
       "2      {'x': 0.0, 'y': 0.0, 'width': 0.0, 'height': 0.0}  \n",
       "3      {'x': 0.0, 'y': 0.0, 'width': 0.0, 'height': 0.0}  \n",
       "4      {'x': 264.0, 'y': 152.0, 'width': 213.0, 'heig...  \n",
       "...                                                  ...  \n",
       "30222  {'x': 185.0, 'y': 298.0, 'width': 228.0, 'heig...  \n",
       "30223  {'x': 0.0, 'y': 0.0, 'width': 0.0, 'height': 0.0}  \n",
       "30224  {'x': 0.0, 'y': 0.0, 'width': 0.0, 'height': 0.0}  \n",
       "30225  {'x': 570.0, 'y': 393.0, 'width': 261.0, 'heig...  \n",
       "30226  {'x': 233.0, 'y': 424.0, 'width': 201.0, 'heig...  \n",
       "\n",
       "[30227 rows x 3 columns]"
      ]
     },
     "execution_count": 7,
     "metadata": {},
     "output_type": "execute_result"
    }
   ],
   "source": [
    "columns = ['x', 'y', 'width', 'height']\n",
    "df['bounding_boxs'] = df[columns].to_dict(orient='record')\n",
    "df = df.drop(columns=columns)\n",
    "df"
   ]
  },
  {
   "cell_type": "code",
   "execution_count": null,
   "metadata": {},
   "outputs": [],
   "source": [
    "df = df.groupby([\"patientId\", \"Target\"])[\"bounding_boxs\"].apply(lambda df: df.reset_index(drop=True)).unstack().reset_index()"
   ]
  },
  {
   "cell_type": "code",
   "execution_count": null,
   "metadata": {},
   "outputs": [],
   "source": [
    "df"
   ]
  },
  {
   "cell_type": "code",
   "execution_count": null,
   "metadata": {},
   "outputs": [],
   "source": [
    "import matplotlib.patches as patches\n",
    "dicoms_training = os.path.join(dir_dicom, 'stage_2_train_images')"
   ]
  },
  {
   "cell_type": "code",
   "execution_count": null,
   "metadata": {},
   "outputs": [],
   "source": [
    "def print_bounding_box(dicom):\n",
    "    \"\"\"plot rectangle boxs for a single dicom image\n",
    "    params: patientId and bounding boxs       \n",
    "    \"\"\"\n",
    "    _dicom_img = pydicom.dcmread(os.path.join(dicoms_training, dicom.patientId + '.dcm'))\n",
    "    print(\"Patient id.......:\", dicom.patientId)\n",
    "    # Create figure and axes\n",
    "    fig, ax = plt.subplots(1)\n",
    "\n",
    "    # Display the image\n",
    "    ax.imshow(_dicom_img.pixel_array, cmap=plt.cm.bone)#cmap stands for color map\n",
    "\n",
    "    for bb in dicom[-4:]:\n",
    "        if isinstance(bb, dict) and bb[\"x\"] != \"nan\":\n",
    "            x = bb[\"x\"]\n",
    "            y = bb[\"y\"]\n",
    "            w = bb[\"width\"]\n",
    "            h = bb[\"height\"] \n",
    "            # Create a Rectangle patch\n",
    "            rect = patches.Rectangle((x,y), w, h, linewidth=1, edgecolor='r', facecolor='none')\n",
    "            # Add the patch to the Axes\n",
    "            ax.add_patch(rect)\n",
    "\n",
    "    plt.show()"
   ]
  },
  {
   "cell_type": "code",
   "execution_count": null,
   "metadata": {},
   "outputs": [],
   "source": [
    "def print_samples(df, nc = 1):\n",
    "    count = 0\n",
    "    for index, row in df.iterrows():\n",
    "        print_bounding_box(row)\n",
    "        count +=1\n",
    "        \n",
    "        if count >= nc:\n",
    "            break"
   ]
  },
  {
   "cell_type": "markdown",
   "metadata": {},
   "source": [
    "## Get some samples of bb(bounding boxs) of 1, 2, 3, 4"
   ]
  },
  {
   "cell_type": "code",
   "execution_count": null,
   "metadata": {},
   "outputs": [],
   "source": [
    "df_4 = df[df[3].notna()]\n",
    "df_3 = df[df[2].notna()]\n",
    "df_2 = df[df[1].notna()]\n",
    "df_1 = df[df[0].notna()]\n",
    "df_0 = df[df[0] == dict(x=0, y=0, width=0, height=0)]\n",
    "\n",
    "df_3 = df_3[~df_3.patientId.isin(df_4.patientId)]\n",
    "df_2 = df_2[~df_2.patientId.isin(df_3.patientId)]\n",
    "df_1 = df_1[~df_1.patientId.isin(df_2.patientId)]\n",
    "df_1 = df_1[~df_1.patientId.isin(df_0.patientId)]"
   ]
  },
  {
   "cell_type": "code",
   "execution_count": null,
   "metadata": {},
   "outputs": [],
   "source": [
    "print_samples(df_4)"
   ]
  },
  {
   "cell_type": "code",
   "execution_count": null,
   "metadata": {},
   "outputs": [],
   "source": [
    "print_samples(df_3)"
   ]
  },
  {
   "cell_type": "code",
   "execution_count": null,
   "metadata": {},
   "outputs": [],
   "source": [
    "print_samples(df_2)"
   ]
  },
  {
   "cell_type": "code",
   "execution_count": null,
   "metadata": {},
   "outputs": [],
   "source": [
    "print_samples(df_1)"
   ]
  },
  {
   "cell_type": "code",
   "execution_count": null,
   "metadata": {},
   "outputs": [],
   "source": []
  }
 ],
 "metadata": {
  "kernelspec": {
   "display_name": "Python 3",
   "language": "python",
   "name": "python3"
  },
  "language_info": {
   "codemirror_mode": {
    "name": "ipython",
    "version": 3
   },
   "file_extension": ".py",
   "mimetype": "text/x-python",
   "name": "python",
   "nbconvert_exporter": "python",
   "pygments_lexer": "ipython3",
   "version": "3.6.10"
  }
 },
 "nbformat": 4,
 "nbformat_minor": 4
}
