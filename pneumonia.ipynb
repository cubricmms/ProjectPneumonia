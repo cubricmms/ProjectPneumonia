{
 "cells": [
  {
   "cell_type": "code",
   "execution_count": 1,
   "metadata": {},
   "outputs": [],
   "source": [
    "import matplotlib.pyplot as plt\n",
    "import pydicom"
   ]
  },
  {
   "cell_type": "code",
   "execution_count": 2,
   "metadata": {},
   "outputs": [],
   "source": [
    "import os"
   ]
  },
  {
   "cell_type": "code",
   "execution_count": 3,
   "metadata": {},
   "outputs": [
    {
     "data": {
      "text/plain": [
       "['stage_2_test_images',\n",
       " '.DS_Store',\n",
       " 'stage_2_detailed_class_info.csv',\n",
       " 'stage_2_sample_submission.csv',\n",
       " 'stage_2_train_images',\n",
       " 'GCP Credits Request Link - RSNA.txt',\n",
       " 'stage_2_train_labels.csv']"
      ]
     },
     "execution_count": 3,
     "metadata": {},
     "output_type": "execute_result"
    }
   ],
   "source": [
    "dir_dicom = os.path.join(os.getcwd(), 'rsna-pneumonia-detection-challenge')\n",
    "os.listdir(dir_dicom)"
   ]
  },
  {
   "cell_type": "code",
   "execution_count": 4,
   "metadata": {},
   "outputs": [],
   "source": [
    "import pandas"
   ]
  },
  {
   "cell_type": "code",
   "execution_count": 5,
   "metadata": {},
   "outputs": [
    {
     "data": {
      "text/html": [
       "<div>\n",
       "<style scoped>\n",
       "    .dataframe tbody tr th:only-of-type {\n",
       "        vertical-align: middle;\n",
       "    }\n",
       "\n",
       "    .dataframe tbody tr th {\n",
       "        vertical-align: top;\n",
       "    }\n",
       "\n",
       "    .dataframe thead th {\n",
       "        text-align: right;\n",
       "    }\n",
       "</style>\n",
       "<table border=\"1\" class=\"dataframe\">\n",
       "  <thead>\n",
       "    <tr style=\"text-align: right;\">\n",
       "      <th></th>\n",
       "      <th>patientId</th>\n",
       "      <th>x</th>\n",
       "      <th>y</th>\n",
       "      <th>width</th>\n",
       "      <th>height</th>\n",
       "      <th>Target</th>\n",
       "    </tr>\n",
       "  </thead>\n",
       "  <tbody>\n",
       "    <tr>\n",
       "      <th>0</th>\n",
       "      <td>0004cfab-14fd-4e49-80ba-63a80b6bddd6</td>\n",
       "      <td>NaN</td>\n",
       "      <td>NaN</td>\n",
       "      <td>NaN</td>\n",
       "      <td>NaN</td>\n",
       "      <td>0</td>\n",
       "    </tr>\n",
       "    <tr>\n",
       "      <th>1</th>\n",
       "      <td>00313ee0-9eaa-42f4-b0ab-c148ed3241cd</td>\n",
       "      <td>NaN</td>\n",
       "      <td>NaN</td>\n",
       "      <td>NaN</td>\n",
       "      <td>NaN</td>\n",
       "      <td>0</td>\n",
       "    </tr>\n",
       "    <tr>\n",
       "      <th>2</th>\n",
       "      <td>00322d4d-1c29-4943-afc9-b6754be640eb</td>\n",
       "      <td>NaN</td>\n",
       "      <td>NaN</td>\n",
       "      <td>NaN</td>\n",
       "      <td>NaN</td>\n",
       "      <td>0</td>\n",
       "    </tr>\n",
       "    <tr>\n",
       "      <th>3</th>\n",
       "      <td>003d8fa0-6bf1-40ed-b54c-ac657f8495c5</td>\n",
       "      <td>NaN</td>\n",
       "      <td>NaN</td>\n",
       "      <td>NaN</td>\n",
       "      <td>NaN</td>\n",
       "      <td>0</td>\n",
       "    </tr>\n",
       "    <tr>\n",
       "      <th>4</th>\n",
       "      <td>00436515-870c-4b36-a041-de91049b9ab4</td>\n",
       "      <td>264.0</td>\n",
       "      <td>152.0</td>\n",
       "      <td>213.0</td>\n",
       "      <td>379.0</td>\n",
       "      <td>1</td>\n",
       "    </tr>\n",
       "    <tr>\n",
       "      <th>5</th>\n",
       "      <td>00436515-870c-4b36-a041-de91049b9ab4</td>\n",
       "      <td>562.0</td>\n",
       "      <td>152.0</td>\n",
       "      <td>256.0</td>\n",
       "      <td>453.0</td>\n",
       "      <td>1</td>\n",
       "    </tr>\n",
       "    <tr>\n",
       "      <th>6</th>\n",
       "      <td>00569f44-917d-4c86-a842-81832af98c30</td>\n",
       "      <td>NaN</td>\n",
       "      <td>NaN</td>\n",
       "      <td>NaN</td>\n",
       "      <td>NaN</td>\n",
       "      <td>0</td>\n",
       "    </tr>\n",
       "    <tr>\n",
       "      <th>7</th>\n",
       "      <td>006cec2e-6ce2-4549-bffa-eadfcd1e9970</td>\n",
       "      <td>NaN</td>\n",
       "      <td>NaN</td>\n",
       "      <td>NaN</td>\n",
       "      <td>NaN</td>\n",
       "      <td>0</td>\n",
       "    </tr>\n",
       "    <tr>\n",
       "      <th>8</th>\n",
       "      <td>00704310-78a8-4b38-8475-49f4573b2dbb</td>\n",
       "      <td>323.0</td>\n",
       "      <td>577.0</td>\n",
       "      <td>160.0</td>\n",
       "      <td>104.0</td>\n",
       "      <td>1</td>\n",
       "    </tr>\n",
       "    <tr>\n",
       "      <th>9</th>\n",
       "      <td>00704310-78a8-4b38-8475-49f4573b2dbb</td>\n",
       "      <td>695.0</td>\n",
       "      <td>575.0</td>\n",
       "      <td>162.0</td>\n",
       "      <td>137.0</td>\n",
       "      <td>1</td>\n",
       "    </tr>\n",
       "  </tbody>\n",
       "</table>\n",
       "</div>"
      ],
      "text/plain": [
       "                              patientId      x      y  width  height  Target\n",
       "0  0004cfab-14fd-4e49-80ba-63a80b6bddd6    NaN    NaN    NaN     NaN       0\n",
       "1  00313ee0-9eaa-42f4-b0ab-c148ed3241cd    NaN    NaN    NaN     NaN       0\n",
       "2  00322d4d-1c29-4943-afc9-b6754be640eb    NaN    NaN    NaN     NaN       0\n",
       "3  003d8fa0-6bf1-40ed-b54c-ac657f8495c5    NaN    NaN    NaN     NaN       0\n",
       "4  00436515-870c-4b36-a041-de91049b9ab4  264.0  152.0  213.0   379.0       1\n",
       "5  00436515-870c-4b36-a041-de91049b9ab4  562.0  152.0  256.0   453.0       1\n",
       "6  00569f44-917d-4c86-a842-81832af98c30    NaN    NaN    NaN     NaN       0\n",
       "7  006cec2e-6ce2-4549-bffa-eadfcd1e9970    NaN    NaN    NaN     NaN       0\n",
       "8  00704310-78a8-4b38-8475-49f4573b2dbb  323.0  577.0  160.0   104.0       1\n",
       "9  00704310-78a8-4b38-8475-49f4573b2dbb  695.0  575.0  162.0   137.0       1"
      ]
     },
     "execution_count": 5,
     "metadata": {},
     "output_type": "execute_result"
    }
   ],
   "source": [
    "df = pandas.read_csv(os.path.join(dir_dicom, 'stage_2_train_labels.csv'))\n",
    "df.head(10)\n"
   ]
  },
  {
   "cell_type": "code",
   "execution_count": 8,
   "metadata": {},
   "outputs": [],
   "source": [
    "import matplotlib.patches as patches\n"
   ]
  },
  {
   "cell_type": "code",
   "execution_count": 30,
   "metadata": {},
   "outputs": [
    {
     "name": "stdout",
     "output_type": "stream",
     "text": [
      "(0, patientId    0004cfab-14fd-4e49-80ba-63a80b6bddd6\n",
      "x                                             NaN\n",
      "y                                             NaN\n",
      "width                                         NaN\n",
      "height                                        NaN\n",
      "Target                                          0\n",
      "Name: 0, dtype: object)\n"
     ]
    }
   ],
   "source": [
    "dicoms_training = os.path.join(dir_dicom, 'stage_2_train_images')\n",
    "\n",
    "for index, row in df.iterrows():\n",
    "#     patientId = item.patientId\n",
    "#      x, y, width, height, Target\n",
    "    print(ro)\n",
    "    break\n",
    "#     _dicom = pydicom.dcmread(os.path.join(dicoms_training, patientId + '.dcm'))\n",
    "#     print()\n",
    "#     print(\"Storage type.....:\", _dicom.SOPClassUID)\n",
    "#     pat_name = _dicom.PatientName\n",
    "#     display_name = pat_name.family_name + \", \" + pat_name.given_name\n",
    "#     print(\"Patient's name...:\", display_name)\n",
    "#     print(\"Patient id.......:\", _dicom.PatientID)\n",
    "#     print(\"Modality.........:\", _dicom.Modality)\n",
    "#     print(\"Study Date.......:\", _dicom.StudyDate)\n",
    "#     if 'PixelData' in _dicom:\n",
    "#         rows = int(_dicom.Rows)\n",
    "#         cols = int(_dicom.Columns)\n",
    "#         print(\"Image size.......: {rows:d} x {cols:d}, {size:d} bytes\".format(\n",
    "#             rows=rows, cols=cols, size=len(_dicom.PixelData)))\n",
    "#     if 'PixelSpacing' in _dicom:\n",
    "#         print(\"Pixel spacing....:\", _dicom.PixelSpacing)\n",
    "\n",
    "#     # use .get() if not sure the item exists, and want a default value if missing\n",
    "#     print(\"Slice location...:\", _dicom.get('SliceLocation', \"(missing)\"))\n",
    "#     print()\n",
    "    \n",
    "\n",
    "\n",
    "#     # Create figure and axes\n",
    "#     fig, ax = plt.subplots(1)\n",
    "\n",
    "#     # Display the image\n",
    "#     ax.imshow(_dicom.pixel_array, cmap=plt.cm.bone)#cmap stands for color map\n",
    "\n",
    "#     # Create a Rectangle patch\n",
    "#     rect = patches.Rectangle((x,y),width,height,linewidth=1,edgecolor='r',facecolor='none')\n",
    "\n",
    "#     # Add the patch to the Axes\n",
    "#     ax.add_patch(rect)\n",
    "\n",
    "    plt.show()\n",
    "\n"
   ]
  },
  {
   "cell_type": "code",
   "execution_count": null,
   "metadata": {},
   "outputs": [],
   "source": []
  }
 ],
 "metadata": {
  "kernelspec": {
   "display_name": "Python 3",
   "language": "python",
   "name": "python3"
  },
  "language_info": {
   "codemirror_mode": {
    "name": "ipython",
    "version": 3
   },
   "file_extension": ".py",
   "mimetype": "text/x-python",
   "name": "python",
   "nbconvert_exporter": "python",
   "pygments_lexer": "ipython3",
   "version": "3.6.10"
  }
 },
 "nbformat": 4,
 "nbformat_minor": 4
}
