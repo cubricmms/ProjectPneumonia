{
  "nbformat": 4,
  "nbformat_minor": 0,
  "metadata": {
    "colab": {
      "name": "hope.ipynb",
      "provenance": [],
      "collapsed_sections": [],
      "mount_file_id": "1jdgUxbywmX-X_W5gua-Ze64egHl2Wtnf",
      "authorship_tag": "ABX9TyNA63Pq3aWYTvYRVrmUF6zU",
      "include_colab_link": true
    },
    "kernelspec": {
      "name": "python3",
      "display_name": "Python 3"
    },
    "accelerator": "GPU",
    "widgets": {
      "application/vnd.jupyter.widget-state+json": {
        "046891c1b6e046fcb80957b25677ca55": {
          "model_module": "@jupyter-widgets/controls",
          "model_name": "HBoxModel",
          "state": {
            "_view_name": "HBoxView",
            "_dom_classes": [],
            "_model_name": "HBoxModel",
            "_view_module": "@jupyter-widgets/controls",
            "_model_module_version": "1.5.0",
            "_view_count": null,
            "_view_module_version": "1.5.0",
            "box_style": "",
            "layout": "IPY_MODEL_d6592dbd38fa4ea9ba603f49353befba",
            "_model_module": "@jupyter-widgets/controls",
            "children": [
              "IPY_MODEL_5d334fca17ba4594adbcfc416a537156",
              "IPY_MODEL_2f9e652a86e642239a5b0d78587171d0"
            ]
          }
        },
        "d6592dbd38fa4ea9ba603f49353befba": {
          "model_module": "@jupyter-widgets/base",
          "model_name": "LayoutModel",
          "state": {
            "_view_name": "LayoutView",
            "grid_template_rows": null,
            "right": null,
            "justify_content": null,
            "_view_module": "@jupyter-widgets/base",
            "overflow": null,
            "_model_module_version": "1.2.0",
            "_view_count": null,
            "flex_flow": null,
            "width": null,
            "min_width": null,
            "border": null,
            "align_items": null,
            "bottom": null,
            "_model_module": "@jupyter-widgets/base",
            "top": null,
            "grid_column": null,
            "overflow_y": null,
            "overflow_x": null,
            "grid_auto_flow": null,
            "grid_area": null,
            "grid_template_columns": null,
            "flex": null,
            "_model_name": "LayoutModel",
            "justify_items": null,
            "grid_row": null,
            "max_height": null,
            "align_content": null,
            "visibility": null,
            "align_self": null,
            "height": null,
            "min_height": null,
            "padding": null,
            "grid_auto_rows": null,
            "grid_gap": null,
            "max_width": null,
            "order": null,
            "_view_module_version": "1.2.0",
            "grid_template_areas": null,
            "object_position": null,
            "object_fit": null,
            "grid_auto_columns": null,
            "margin": null,
            "display": null,
            "left": null
          }
        },
        "5d334fca17ba4594adbcfc416a537156": {
          "model_module": "@jupyter-widgets/controls",
          "model_name": "IntProgressModel",
          "state": {
            "_view_name": "ProgressView",
            "style": "IPY_MODEL_908a834298344e8798df6a0cf8c9d699",
            "_dom_classes": [],
            "description": "100%",
            "_model_name": "IntProgressModel",
            "bar_style": "success",
            "max": 26684,
            "_view_module": "@jupyter-widgets/controls",
            "_model_module_version": "1.5.0",
            "value": 26684,
            "_view_count": null,
            "_view_module_version": "1.5.0",
            "orientation": "horizontal",
            "min": 0,
            "description_tooltip": null,
            "_model_module": "@jupyter-widgets/controls",
            "layout": "IPY_MODEL_dba5f79c5c74408192ac617062f6a116"
          }
        },
        "2f9e652a86e642239a5b0d78587171d0": {
          "model_module": "@jupyter-widgets/controls",
          "model_name": "HTMLModel",
          "state": {
            "_view_name": "HTMLView",
            "style": "IPY_MODEL_aa65c591483344c29530b6ef20cdb2cf",
            "_dom_classes": [],
            "description": "",
            "_model_name": "HTMLModel",
            "placeholder": "​",
            "_view_module": "@jupyter-widgets/controls",
            "_model_module_version": "1.5.0",
            "value": " 26684/26684 [01:09&lt;00:00, 383.07it/s]",
            "_view_count": null,
            "_view_module_version": "1.5.0",
            "description_tooltip": null,
            "_model_module": "@jupyter-widgets/controls",
            "layout": "IPY_MODEL_25e34033c2ad496a851127a493af9f2f"
          }
        },
        "908a834298344e8798df6a0cf8c9d699": {
          "model_module": "@jupyter-widgets/controls",
          "model_name": "ProgressStyleModel",
          "state": {
            "_view_name": "StyleView",
            "_model_name": "ProgressStyleModel",
            "description_width": "initial",
            "_view_module": "@jupyter-widgets/base",
            "_model_module_version": "1.5.0",
            "_view_count": null,
            "_view_module_version": "1.2.0",
            "bar_color": null,
            "_model_module": "@jupyter-widgets/controls"
          }
        },
        "dba5f79c5c74408192ac617062f6a116": {
          "model_module": "@jupyter-widgets/base",
          "model_name": "LayoutModel",
          "state": {
            "_view_name": "LayoutView",
            "grid_template_rows": null,
            "right": null,
            "justify_content": null,
            "_view_module": "@jupyter-widgets/base",
            "overflow": null,
            "_model_module_version": "1.2.0",
            "_view_count": null,
            "flex_flow": null,
            "width": null,
            "min_width": null,
            "border": null,
            "align_items": null,
            "bottom": null,
            "_model_module": "@jupyter-widgets/base",
            "top": null,
            "grid_column": null,
            "overflow_y": null,
            "overflow_x": null,
            "grid_auto_flow": null,
            "grid_area": null,
            "grid_template_columns": null,
            "flex": null,
            "_model_name": "LayoutModel",
            "justify_items": null,
            "grid_row": null,
            "max_height": null,
            "align_content": null,
            "visibility": null,
            "align_self": null,
            "height": null,
            "min_height": null,
            "padding": null,
            "grid_auto_rows": null,
            "grid_gap": null,
            "max_width": null,
            "order": null,
            "_view_module_version": "1.2.0",
            "grid_template_areas": null,
            "object_position": null,
            "object_fit": null,
            "grid_auto_columns": null,
            "margin": null,
            "display": null,
            "left": null
          }
        },
        "aa65c591483344c29530b6ef20cdb2cf": {
          "model_module": "@jupyter-widgets/controls",
          "model_name": "DescriptionStyleModel",
          "state": {
            "_view_name": "StyleView",
            "_model_name": "DescriptionStyleModel",
            "description_width": "",
            "_view_module": "@jupyter-widgets/base",
            "_model_module_version": "1.5.0",
            "_view_count": null,
            "_view_module_version": "1.2.0",
            "_model_module": "@jupyter-widgets/controls"
          }
        },
        "25e34033c2ad496a851127a493af9f2f": {
          "model_module": "@jupyter-widgets/base",
          "model_name": "LayoutModel",
          "state": {
            "_view_name": "LayoutView",
            "grid_template_rows": null,
            "right": null,
            "justify_content": null,
            "_view_module": "@jupyter-widgets/base",
            "overflow": null,
            "_model_module_version": "1.2.0",
            "_view_count": null,
            "flex_flow": null,
            "width": null,
            "min_width": null,
            "border": null,
            "align_items": null,
            "bottom": null,
            "_model_module": "@jupyter-widgets/base",
            "top": null,
            "grid_column": null,
            "overflow_y": null,
            "overflow_x": null,
            "grid_auto_flow": null,
            "grid_area": null,
            "grid_template_columns": null,
            "flex": null,
            "_model_name": "LayoutModel",
            "justify_items": null,
            "grid_row": null,
            "max_height": null,
            "align_content": null,
            "visibility": null,
            "align_self": null,
            "height": null,
            "min_height": null,
            "padding": null,
            "grid_auto_rows": null,
            "grid_gap": null,
            "max_width": null,
            "order": null,
            "_view_module_version": "1.2.0",
            "grid_template_areas": null,
            "object_position": null,
            "object_fit": null,
            "grid_auto_columns": null,
            "margin": null,
            "display": null,
            "left": null
          }
        }
      }
    }
  },
  "cells": [
    {
      "cell_type": "markdown",
      "metadata": {
        "id": "view-in-github",
        "colab_type": "text"
      },
      "source": [
        "<a href=\"https://colab.research.google.com/github/cubricmms/ProjectPneumonia/blob/ssd/hope.ipynb\" target=\"_parent\"><img src=\"https://colab.research.google.com/assets/colab-badge.svg\" alt=\"Open In Colab\"/></a>"
      ]
    },
    {
      "cell_type": "code",
      "metadata": {
        "id": "AhKSxu8AInrj",
        "colab_type": "code",
        "colab": {}
      },
      "source": [
        "def check_remaining_time():\n",
        "  import time, psutil\n",
        "  Start = time.time()- psutil.boot_time()\n",
        "  Left= 12*3600 - Start\n",
        "  print('Time remaining for this session is: ', Left/3600)"
      ],
      "execution_count": 0,
      "outputs": []
    },
    {
      "cell_type": "code",
      "metadata": {
        "id": "IojRqUSo2Zd4",
        "colab_type": "code",
        "outputId": "fc72b8e0-b7ef-4a19-a1b4-144e159d67da",
        "colab": {
          "base_uri": "https://localhost:8080/",
          "height": 34
        }
      },
      "source": [
        "%tensorflow_version 1.x"
      ],
      "execution_count": 2,
      "outputs": [
        {
          "output_type": "stream",
          "text": [
            "TensorFlow 1.x selected.\n"
          ],
          "name": "stdout"
        }
      ]
    },
    {
      "cell_type": "code",
      "metadata": {
        "id": "LJYxDrGJpFfW",
        "colab_type": "code",
        "colab": {}
      },
      "source": [
        "# Upload kaggle API key file\n",
        "# uploaded = files.upload()\n",
        "!mkdir -p /root/.kaggle\n",
        "!cp  /content/drive/My\\ Drive/ssd/kaggle.json /root/.kaggle\n",
        "!cp  /content/drive/My\\ Drive/ssd/labelmap.pbtxt .\n",
        "!cp  /content/drive/My\\ Drive/ssd/ssdconfig.config .\n",
        "!cp /content/drive/My\\ Drive/ssd/model.ckpt* ."
      ],
      "execution_count": 0,
      "outputs": []
    },
    {
      "cell_type": "code",
      "metadata": {
        "id": "wvLV5jSrKPOO",
        "colab_type": "code",
        "outputId": "f4110b2a-9f8d-499c-991f-c9b8cf5bd976",
        "colab": {
          "base_uri": "https://localhost:8080/",
          "height": 185
        }
      },
      "source": [
        "!pip uninstall --quiet folium -y\n",
        "!pip install --quiet folium==0.2.1\n",
        "!pip install --quiet pydicom tqdm\n",
        "!pip install --quiet Pygments==2.5.1\n",
        "!pip install --quiet tensorflow-object-detection-api"
      ],
      "execution_count": 4,
      "outputs": [
        {
          "output_type": "stream",
          "text": [
            "\u001b[K     |████████████████████████████████| 35.3MB 96kB/s \n",
            "\u001b[K     |████████████████████████████████| 901kB 23.1MB/s \n",
            "\u001b[31mERROR: datascience 0.10.6 has requirement folium==0.2.1, but you'll have folium 0.8.3 which is incompatible.\u001b[0m\n",
            "\u001b[K     |████████████████████████████████| 71kB 8.0MB/s \n",
            "\u001b[?25h  Building wheel for folium (setup.py) ... \u001b[?25l\u001b[?25hdone\n",
            "\u001b[K     |████████████████████████████████| 583kB 45.7MB/s \n",
            "\u001b[K     |████████████████████████████████| 61kB 11.1MB/s \n",
            "\u001b[K     |████████████████████████████████| 2.3MB 61.8MB/s \n",
            "\u001b[?25h  Building wheel for tensorflow-object-detection-api (setup.py) ... \u001b[?25l\u001b[?25hdone\n",
            "  Building wheel for gast (setup.py) ... \u001b[?25l\u001b[?25hdone\n"
          ],
          "name": "stdout"
        }
      ]
    },
    {
      "cell_type": "code",
      "metadata": {
        "id": "vupZSWelpDu7",
        "colab_type": "code",
        "outputId": "86d97892-f0f8-44f7-8232-ed4faa7d92d0",
        "colab": {
          "base_uri": "https://localhost:8080/",
          "height": 67
        }
      },
      "source": [
        "# Colab library to upload files to notebook\n",
        "from google.colab import files\n",
        "\n",
        "# Install Kaggle library\n",
        "!pip uninstall --quiet kaggle -y\n",
        "!pip install --quiet --upgrade pip\n",
        "!pip install --quiet kaggle==1.5.6"
      ],
      "execution_count": 5,
      "outputs": [
        {
          "output_type": "stream",
          "text": [
            "\u001b[K     |████████████████████████████████| 1.4MB 39.2MB/s \n",
            "\u001b[K     |████████████████████████████████| 58 kB 7.8 MB/s \n",
            "\u001b[?25h  Building wheel for kaggle (setup.py) ... \u001b[?25l\u001b[?25hdone\n"
          ],
          "name": "stdout"
        }
      ]
    },
    {
      "cell_type": "code",
      "metadata": {
        "id": "LXWYN7QlqLEJ",
        "colab_type": "code",
        "colab": {}
      },
      "source": [
        "!chmod 600 /root/.kaggle/kaggle.json"
      ],
      "execution_count": 0,
      "outputs": []
    },
    {
      "cell_type": "code",
      "metadata": {
        "id": "pAh20Qw_pJ6O",
        "colab_type": "code",
        "outputId": "5d825385-dc31-4550-df66-b45aaaad2166",
        "colab": {
          "base_uri": "https://localhost:8080/",
          "height": 67
        }
      },
      "source": [
        "!kaggle competitions download -c rsna-pneumonia-detection-challenge"
      ],
      "execution_count": 7,
      "outputs": [
        {
          "output_type": "stream",
          "text": [
            "Downloading rsna-pneumonia-detection-challenge.zip to /content\n",
            "100% 3.66G/3.66G [01:08<00:00, 46.4MB/s]\n",
            "100% 3.66G/3.66G [01:08<00:00, 57.4MB/s]\n"
          ],
          "name": "stdout"
        }
      ]
    },
    {
      "cell_type": "code",
      "metadata": {
        "id": "EQEby-xepXOi",
        "colab_type": "code",
        "colab": {}
      },
      "source": [
        "!unzip -o -q rsna-pneumonia-detection-challenge.zip -d data"
      ],
      "execution_count": 0,
      "outputs": []
    },
    {
      "cell_type": "code",
      "metadata": {
        "id": "5jJ8n3p-zRCC",
        "colab_type": "code",
        "colab": {}
      },
      "source": [
        "!git clone https://github.com/tensorflow/models.git --quiet"
      ],
      "execution_count": 0,
      "outputs": []
    },
    {
      "cell_type": "code",
      "metadata": {
        "id": "Zf51hS34Zd-Z",
        "colab_type": "code",
        "colab": {}
      },
      "source": [
        "!find ./models -name \"*.pyc\" -exec rm {} \\;"
      ],
      "execution_count": 0,
      "outputs": []
    },
    {
      "cell_type": "code",
      "metadata": {
        "id": "rBZVwqh2I90U",
        "colab_type": "code",
        "colab": {}
      },
      "source": [
        "!apt-get -qq install protobuf-compiler python-pil python-lxml python-tk"
      ],
      "execution_count": 0,
      "outputs": []
    },
    {
      "cell_type": "code",
      "metadata": {
        "id": "6flaEDFcJJI4",
        "colab_type": "code",
        "colab": {}
      },
      "source": [
        "!pip install --quiet Cython"
      ],
      "execution_count": 0,
      "outputs": []
    },
    {
      "cell_type": "code",
      "metadata": {
        "id": "l3XC6OTzJUWq",
        "colab_type": "code",
        "colab": {}
      },
      "source": [
        "%cd ./models/research/\n",
        "!protoc object_detection/protos/*.proto --python_out=."
      ],
      "execution_count": 0,
      "outputs": []
    },
    {
      "cell_type": "code",
      "metadata": {
        "id": "qMIOC9VXJlee",
        "colab_type": "code",
        "colab": {}
      },
      "source": [
        "# import os\n",
        "# os.environ['PYTHONPATH'] += ':/content/models/research/:/content/models/research/slim'\n",
        "# !python setup.py -q build\n",
        "# !python setup.py -q install\n",
        "# !python object_detection/builders/model_builder_test.py"
      ],
      "execution_count": 0,
      "outputs": []
    },
    {
      "cell_type": "code",
      "metadata": {
        "id": "omkWY7PjJ4mD",
        "colab_type": "code",
        "colab": {}
      },
      "source": [
        "%cd /content/"
      ],
      "execution_count": 0,
      "outputs": []
    },
    {
      "cell_type": "code",
      "metadata": {
        "id": "NR29jx0802Vz",
        "colab_type": "code",
        "colab": {}
      },
      "source": [
        "import tensorflow as tf\n",
        "import os\n",
        "import pandas as pd\n",
        "import pydicom\n",
        "from tqdm.notebook import tqdm\n",
        "from io import BytesIO\n",
        "import numpy as np\n",
        "import contextlib2\n",
        "from object_detection.utils import dataset_util\n",
        "from object_detection.dataset_tools import tf_record_creation_util"
      ],
      "execution_count": 0,
      "outputs": []
    },
    {
      "cell_type": "code",
      "metadata": {
        "id": "Guzdj-Ud3XDe",
        "colab_type": "code",
        "colab": {}
      },
      "source": [
        "device_name = tf.test.gpu_device_name()\n",
        "if device_name != '/device:GPU:0':\n",
        "  raise SystemError('GPU device not found')\n",
        "print('Found GPU at: {}'.format(device_name))"
      ],
      "execution_count": 0,
      "outputs": []
    },
    {
      "cell_type": "code",
      "metadata": {
        "id": "LB_3US-24Be1",
        "colab_type": "code",
        "colab": {}
      },
      "source": [
        "data_dir = os.path.join(os.getcwd(), 'data')\n",
        "print('Data directory: ', data_dir)\n",
        "train_dir = os.path.join(data_dir, \"stage_2_train_images\")"
      ],
      "execution_count": 0,
      "outputs": []
    },
    {
      "cell_type": "code",
      "metadata": {
        "id": "ivmGFEkt2GTa",
        "colab_type": "code",
        "colab": {}
      },
      "source": [
        "debug = False\n",
        "def create_tf_example(patientId, boxes):\n",
        "    height = 1024 # Image height\n",
        "    width = 1024 # Image width\n",
        "\n",
        "    path = os.path.join(train_dir, patientId + \".dcm\")\n",
        "\n",
        "    ds = pydicom.dcmread(path)\n",
        "\n",
        "    filename = bytes(patientId + '.jpg', 'utf-8') # Filename of the image. Empty if image is not from file\n",
        "    image_format = b'jpeg' # b'jpeg' or b'png'\n",
        "\n",
        "    encoded_image_data = ds.PixelData[16:]\n",
        "    if (debug):\n",
        "        print(encoded_image_data[:3])\n",
        "\n",
        "    xmins = [] # List of normalized left x coordinates in bounding box (1 per box)\n",
        "    xmaxs = [] # List of normalized right x coordinates in bounding box\n",
        "                # (1 per box)\n",
        "    ymins = [] # List of normalized top y coordinates in bounding box (1 per box)\n",
        "    ymaxs = [] # List of normalized bottom y coordinates in bounding box\n",
        "                # (1 per box)\n",
        "\n",
        "    classes_text = [] # List of string class name of bounding box (1 per box)\n",
        "    classes = [] # List of integer class id of bounding box (1 per box)\n",
        "\n",
        "    for box in boxes:\n",
        "        if not np.isnan(box[0]):\n",
        "            if (debug):\n",
        "                print(box)\n",
        "            classes_text.append(b'pneumonia')\n",
        "            classes.append(1)\n",
        "            \n",
        "            # x-min y-min width height\n",
        "            xmins.append(box[0] / width)   # store normalized values for bbox\n",
        "            xmaxs.append((box[0] + box[2]) / width)\n",
        "            ymins.append(box[1] / height)\n",
        "            ymaxs.append((box[1] + box[3]) / height)\n",
        "        else:\n",
        "            classes_text.append(b'normal/other')\n",
        "            classes.append(2)\n",
        "\n",
        "    if (debug):\n",
        "        print(xmins)\n",
        "        print(xmaxs)\n",
        "        print(ymins)\n",
        "        print(ymaxs)\n",
        "\n",
        "    tf_example = tf.train.Example(features=tf.train.Features(feature={\n",
        "        'image/height': dataset_util.int64_feature(height),\n",
        "        'image/width': dataset_util.int64_feature(width),\n",
        "        'image/filename': dataset_util.bytes_feature(filename),\n",
        "        'image/source_id': dataset_util.bytes_feature(filename),\n",
        "        'image/encoded': dataset_util.bytes_feature(encoded_image_data),\n",
        "        'image/format': dataset_util.bytes_feature(image_format),\n",
        "        'image/object/bbox/xmin': dataset_util.float_list_feature(xmins),\n",
        "        'image/object/bbox/xmax': dataset_util.float_list_feature(xmaxs),\n",
        "        'image/object/bbox/ymin': dataset_util.float_list_feature(ymins),\n",
        "        'image/object/bbox/ymax': dataset_util.float_list_feature(ymaxs),\n",
        "        'image/object/class/text': dataset_util.bytes_list_feature(classes_text),\n",
        "        'image/object/class/label': dataset_util.int64_list_feature(classes),\n",
        "    }))\n",
        "    return tf_example"
      ],
      "execution_count": 0,
      "outputs": []
    },
    {
      "cell_type": "code",
      "metadata": {
        "id": "Z8wAIzS01k6W",
        "colab_type": "code",
        "outputId": "34489129-51ff-45c6-9446-2c7d0b192683",
        "colab": {
          "base_uri": "https://localhost:8080/",
          "height": 119,
          "referenced_widgets": [
            "046891c1b6e046fcb80957b25677ca55",
            "d6592dbd38fa4ea9ba603f49353befba",
            "5d334fca17ba4594adbcfc416a537156",
            "2f9e652a86e642239a5b0d78587171d0",
            "908a834298344e8798df6a0cf8c9d699",
            "dba5f79c5c74408192ac617062f6a116",
            "aa65c591483344c29530b6ef20cdb2cf",
            "25e34033c2ad496a851127a493af9f2f"
          ]
        }
      },
      "source": [
        "num_shards=10\n",
        "output_filebase='train'\n",
        "\n",
        "with contextlib2.ExitStack() as tf_record_close_stack:\n",
        "    output_tfrecords = tf_record_creation_util.open_sharded_output_tfrecords(tf_record_close_stack, output_filebase, num_shards)\n",
        "\n",
        "\n",
        "    train = pd.read_csv(os.path.join(data_dir,\"stage_2_train_labels.csv\"))\n",
        "    groups = train.groupby('patientId')\n",
        "\n",
        "    count = 0\n",
        "\n",
        "    for patientId in tqdm(train.drop_duplicates('patientId')['patientId']):\n",
        "        # print('[{c}]processing patientId={p}'.format(c=count,p=patientId))\n",
        "\n",
        "        boxes = groups.get_group(patientId).drop(columns=['patientId']).values\n",
        "        tf_example = create_tf_example(patientId, boxes)\n",
        "\n",
        "        output_shard_index = count % num_shards\n",
        "        output_tfrecords[output_shard_index].write(tf_example.SerializeToString())\n",
        "\n",
        "        count += 1"
      ],
      "execution_count": 20,
      "outputs": [
        {
          "output_type": "stream",
          "text": [
            "WARNING:tensorflow:From /usr/local/lib/python3.6/dist-packages/object_detection/dataset_tools/tf_record_creation_util.py:43: The name tf.python_io.TFRecordWriter is deprecated. Please use tf.io.TFRecordWriter instead.\n",
            "\n"
          ],
          "name": "stdout"
        },
        {
          "output_type": "display_data",
          "data": {
            "application/vnd.jupyter.widget-view+json": {
              "model_id": "046891c1b6e046fcb80957b25677ca55",
              "version_minor": 0,
              "version_major": 2
            },
            "text/plain": [
              "HBox(children=(IntProgress(value=0, max=26684), HTML(value='')))"
            ]
          },
          "metadata": {
            "tags": []
          }
        },
        {
          "output_type": "stream",
          "text": [
            "\n"
          ],
          "name": "stdout"
        }
      ]
    },
    {
      "cell_type": "code",
      "metadata": {
        "id": "82WxnGB44mea",
        "colab_type": "code",
        "colab": {}
      },
      "source": [
        "!mv train-00009-of-00010 test-00009-of-00010\n",
        "!wget http://download.tensorflow.org/models/object_detection/ssd_inception_v2_coco_2018_01_28.tar.gz\n",
        "!tar -xvzf  ssd_inception_v2_coco_2018_01_28.tar.gz\n",
        "!rm ssd_inception_v2_coco_2018_01_28.tar.gz\n",
        "!ln -s \"/content/drive/My Drive\" \"/content/mydrive\"\n",
        "!cp -r /content/ssd_inception_v2_coco_2018_01_28\t/content/mydrive/ssd/\n",
        "!cp /content/models/research/object_detection/legacy/train.py ./train.py"
      ],
      "execution_count": 0,
      "outputs": []
    },
    {
      "cell_type": "code",
      "metadata": {
        "id": "8r5QrniQJpIH",
        "colab_type": "code",
        "colab": {}
      },
      "source": [
        "## Remove corrupted tfrecord! Gonna find out the reason later\n",
        "import tensorflow as tf\n",
        "import glob\n",
        "import os\n",
        "from google.protobuf.json_format import MessageToJson\n",
        "\n",
        "files =  glob.glob(\"/content/train-*\") \n",
        "\n",
        "filesSize = len(files)\n",
        "cnt = 0 \n",
        "\n",
        "for filename in files:\n",
        "    cnt = cnt + 1\n",
        "    print('checking %d/%d %s' % (cnt, filesSize, filename))\n",
        "    try:\n",
        "        # for example in tf.python_io.tf_record_iterator(filename): \n",
        "        for example in tf.data.TFRecordDataset(filename):\n",
        "            tf_example = tf.train.Example.FromString(example) \n",
        "            \n",
        "            jsonMessage = MessageToJson(tf_example)\n",
        "\n",
        "    except :\n",
        "        print(\"removing %s\" % filename)\n",
        "        os.remove(filename)"
      ],
      "execution_count": 0,
      "outputs": []
    },
    {
      "cell_type": "code",
      "metadata": {
        "id": "wb7jxbE86UXO",
        "colab_type": "code",
        "colab": {}
      },
      "source": [
        "! python ./train.py   --train_dir=. --pipeline_config_path=ssdconfig.config --logtostderr &"
      ],
      "execution_count": 0,
      "outputs": []
    },
    {
      "cell_type": "code",
      "metadata": {
        "id": "O7TXrLP2beCh",
        "colab_type": "code",
        "colab": {}
      },
      "source": [
        "!cp /content/models/research/object_detection/legacy/eval.py ./eval.py"
      ],
      "execution_count": 0,
      "outputs": []
    },
    {
      "cell_type": "code",
      "metadata": {
        "id": "RIhazHqEUyx6",
        "colab_type": "code",
        "colab": {}
      },
      "source": [
        "!python eval.py --logtostderr --pipeline_config_path=ssdconfig.config --checkpoint_dir=. --eval_dir=. &"
      ],
      "execution_count": 0,
      "outputs": []
    },
    {
      "cell_type": "code",
      "metadata": {
        "id": "Y-lLeqiaVOX3",
        "colab_type": "code",
        "colab": {}
      },
      "source": [
        "%load_ext tensorboard\n",
        "%tensorboard --logdir=."
      ],
      "execution_count": 0,
      "outputs": []
    },
    {
      "cell_type": "code",
      "metadata": {
        "id": "aAMNbZ5EbKb_",
        "colab_type": "code",
        "colab": {}
      },
      "source": [
        "#!cp model.ckpt* /content/drive/My\\ Drive/ssd/"
      ],
      "execution_count": 0,
      "outputs": []
    },
    {
      "cell_type": "code",
      "metadata": {
        "id": "5MXsWxeNbInB",
        "colab_type": "code",
        "colab": {}
      },
      "source": [
        ""
      ],
      "execution_count": 0,
      "outputs": []
    }
  ]
}